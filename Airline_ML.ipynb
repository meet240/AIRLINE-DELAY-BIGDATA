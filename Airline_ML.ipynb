{
 "cells": [
  {
   "cell_type": "markdown",
   "id": "accessible-times",
   "metadata": {},
   "source": [
    "Importing Libraries"
   ]
  },
  {
   "cell_type": "code",
   "execution_count": 2,
   "id": "endless-defensive",
   "metadata": {},
   "outputs": [],
   "source": [
    "import numpy as np\n",
    "import pandas as pd\n",
    "import matplotlib.pyplot as plt"
   ]
  },
  {
   "cell_type": "markdown",
   "id": "reflected-chemical",
   "metadata": {},
   "source": [
    "<h3>Import Data</h3>"
   ]
  },
  {
   "cell_type": "code",
   "execution_count": 3,
   "id": "blank-reverse",
   "metadata": {},
   "outputs": [],
   "source": [
    "df=pd.read_csv(\"part-00000-9b1c7e6e-98f2-4960-ab45-7a15f2047897-c000.csv\")"
   ]
  },
  {
   "cell_type": "code",
   "execution_count": 4,
   "id": "substantial-transition",
   "metadata": {},
   "outputs": [
    {
     "data": {
      "text/plain": [
       "FL_DATE                0\n",
       "OP_CARRIER             0\n",
       "OP_CARRIER_FL_NUM      0\n",
       "ORIGIN                 0\n",
       "DEST                   0\n",
       "DEP_TIME               0\n",
       "DEP_DELAY              0\n",
       "CRS_ARR_TIME           0\n",
       "ARR_TIME               0\n",
       "ARR_DELAY              0\n",
       "CANCELLED              0\n",
       "DIVERTED               0\n",
       "CRS_ELAPSED_TIME       0\n",
       "ACTUAL_ELAPSED_TIME    0\n",
       "AIR_TIME               0\n",
       "DISTANCE               0\n",
       "CRS_DEP_TIME           0\n",
       "dtype: int64"
      ]
     },
     "execution_count": 4,
     "metadata": {},
     "output_type": "execute_result"
    }
   ],
   "source": [
    "df.isnull().sum()"
   ]
  },
  {
   "cell_type": "code",
   "execution_count": 5,
   "id": "coordinated-housing",
   "metadata": {},
   "outputs": [
    {
     "data": {
      "text/plain": [
       "FL_DATE                2513\n",
       "OP_CARRIER                1\n",
       "OP_CARRIER_FL_NUM      5851\n",
       "ORIGIN                    1\n",
       "DEST                     45\n",
       "DEP_TIME               1288\n",
       "DEP_DELAY               398\n",
       "CRS_ARR_TIME            231\n",
       "ARR_TIME               1317\n",
       "ARR_DELAY               440\n",
       "CANCELLED                 1\n",
       "DIVERTED                  1\n",
       "CRS_ELAPSED_TIME         61\n",
       "ACTUAL_ELAPSED_TIME     352\n",
       "AIR_TIME                324\n",
       "DISTANCE                 46\n",
       "CRS_DEP_TIME            222\n",
       "dtype: int64"
      ]
     },
     "execution_count": 5,
     "metadata": {},
     "output_type": "execute_result"
    }
   ],
   "source": [
    "df.nunique()"
   ]
  },
  {
   "cell_type": "code",
   "execution_count": 6,
   "id": "skilled-courtesy",
   "metadata": {},
   "outputs": [
    {
     "data": {
      "text/html": [
       "<div>\n",
       "<style scoped>\n",
       "    .dataframe tbody tr th:only-of-type {\n",
       "        vertical-align: middle;\n",
       "    }\n",
       "\n",
       "    .dataframe tbody tr th {\n",
       "        vertical-align: top;\n",
       "    }\n",
       "\n",
       "    .dataframe thead th {\n",
       "        text-align: right;\n",
       "    }\n",
       "</style>\n",
       "<table border=\"1\" class=\"dataframe\">\n",
       "  <thead>\n",
       "    <tr style=\"text-align: right;\">\n",
       "      <th></th>\n",
       "      <th>FL_DATE</th>\n",
       "      <th>OP_CARRIER</th>\n",
       "      <th>OP_CARRIER_FL_NUM</th>\n",
       "      <th>ORIGIN</th>\n",
       "      <th>DEST</th>\n",
       "      <th>DEP_TIME</th>\n",
       "      <th>DEP_DELAY</th>\n",
       "      <th>CRS_ARR_TIME</th>\n",
       "      <th>ARR_TIME</th>\n",
       "      <th>ARR_DELAY</th>\n",
       "      <th>CANCELLED</th>\n",
       "      <th>DIVERTED</th>\n",
       "      <th>CRS_ELAPSED_TIME</th>\n",
       "      <th>ACTUAL_ELAPSED_TIME</th>\n",
       "      <th>AIR_TIME</th>\n",
       "      <th>DISTANCE</th>\n",
       "      <th>CRS_DEP_TIME</th>\n",
       "    </tr>\n",
       "  </thead>\n",
       "  <tbody>\n",
       "    <tr>\n",
       "      <th>0</th>\n",
       "      <td>2012-11-11</td>\n",
       "      <td>WN</td>\n",
       "      <td>2416</td>\n",
       "      <td>ATL</td>\n",
       "      <td>AUS</td>\n",
       "      <td>08:53:00</td>\n",
       "      <td>-2</td>\n",
       "      <td>10:45:00</td>\n",
       "      <td>10:23:00</td>\n",
       "      <td>-22</td>\n",
       "      <td>0.0</td>\n",
       "      <td>0.0</td>\n",
       "      <td>170</td>\n",
       "      <td>150</td>\n",
       "      <td>135</td>\n",
       "      <td>813.0</td>\n",
       "      <td>08:55:00</td>\n",
       "    </tr>\n",
       "    <tr>\n",
       "      <th>1</th>\n",
       "      <td>2012-11-11</td>\n",
       "      <td>WN</td>\n",
       "      <td>2451</td>\n",
       "      <td>ATL</td>\n",
       "      <td>AUS</td>\n",
       "      <td>16:22:00</td>\n",
       "      <td>7</td>\n",
       "      <td>17:55:00</td>\n",
       "      <td>17:55:00</td>\n",
       "      <td>0</td>\n",
       "      <td>0.0</td>\n",
       "      <td>0.0</td>\n",
       "      <td>160</td>\n",
       "      <td>153</td>\n",
       "      <td>132</td>\n",
       "      <td>813.0</td>\n",
       "      <td>16:15:00</td>\n",
       "    </tr>\n",
       "    <tr>\n",
       "      <th>2</th>\n",
       "      <td>2012-11-11</td>\n",
       "      <td>WN</td>\n",
       "      <td>257</td>\n",
       "      <td>ATL</td>\n",
       "      <td>BWI</td>\n",
       "      <td>20:49:00</td>\n",
       "      <td>19</td>\n",
       "      <td>22:25:00</td>\n",
       "      <td>22:44:00</td>\n",
       "      <td>19</td>\n",
       "      <td>0.0</td>\n",
       "      <td>0.0</td>\n",
       "      <td>115</td>\n",
       "      <td>115</td>\n",
       "      <td>87</td>\n",
       "      <td>577.0</td>\n",
       "      <td>20:30:00</td>\n",
       "    </tr>\n",
       "    <tr>\n",
       "      <th>3</th>\n",
       "      <td>2012-11-11</td>\n",
       "      <td>WN</td>\n",
       "      <td>2550</td>\n",
       "      <td>ATL</td>\n",
       "      <td>BWI</td>\n",
       "      <td>08:05:00</td>\n",
       "      <td>-5</td>\n",
       "      <td>09:55:00</td>\n",
       "      <td>09:48:00</td>\n",
       "      <td>-7</td>\n",
       "      <td>0.0</td>\n",
       "      <td>0.0</td>\n",
       "      <td>105</td>\n",
       "      <td>103</td>\n",
       "      <td>88</td>\n",
       "      <td>577.0</td>\n",
       "      <td>08:10:00</td>\n",
       "    </tr>\n",
       "    <tr>\n",
       "      <th>4</th>\n",
       "      <td>2012-11-11</td>\n",
       "      <td>WN</td>\n",
       "      <td>3331</td>\n",
       "      <td>ATL</td>\n",
       "      <td>BWI</td>\n",
       "      <td>18:25:00</td>\n",
       "      <td>5</td>\n",
       "      <td>20:10:00</td>\n",
       "      <td>20:28:00</td>\n",
       "      <td>18</td>\n",
       "      <td>0.0</td>\n",
       "      <td>0.0</td>\n",
       "      <td>110</td>\n",
       "      <td>123</td>\n",
       "      <td>93</td>\n",
       "      <td>577.0</td>\n",
       "      <td>18:20:00</td>\n",
       "    </tr>\n",
       "  </tbody>\n",
       "</table>\n",
       "</div>"
      ],
      "text/plain": [
       "      FL_DATE OP_CARRIER  OP_CARRIER_FL_NUM ORIGIN DEST  DEP_TIME  DEP_DELAY  \\\n",
       "0  2012-11-11         WN               2416    ATL  AUS  08:53:00         -2   \n",
       "1  2012-11-11         WN               2451    ATL  AUS  16:22:00          7   \n",
       "2  2012-11-11         WN                257    ATL  BWI  20:49:00         19   \n",
       "3  2012-11-11         WN               2550    ATL  BWI  08:05:00         -5   \n",
       "4  2012-11-11         WN               3331    ATL  BWI  18:25:00          5   \n",
       "\n",
       "  CRS_ARR_TIME  ARR_TIME  ARR_DELAY  CANCELLED  DIVERTED  CRS_ELAPSED_TIME  \\\n",
       "0     10:45:00  10:23:00        -22        0.0       0.0               170   \n",
       "1     17:55:00  17:55:00          0        0.0       0.0               160   \n",
       "2     22:25:00  22:44:00         19        0.0       0.0               115   \n",
       "3     09:55:00  09:48:00         -7        0.0       0.0               105   \n",
       "4     20:10:00  20:28:00         18        0.0       0.0               110   \n",
       "\n",
       "   ACTUAL_ELAPSED_TIME  AIR_TIME  DISTANCE CRS_DEP_TIME  \n",
       "0                  150       135     813.0     08:55:00  \n",
       "1                  153       132     813.0     16:15:00  \n",
       "2                  115        87     577.0     20:30:00  \n",
       "3                  103        88     577.0     08:10:00  \n",
       "4                  123        93     577.0     18:20:00  "
      ]
     },
     "execution_count": 6,
     "metadata": {},
     "output_type": "execute_result"
    }
   ],
   "source": [
    "df.head()"
   ]
  },
  {
   "cell_type": "code",
   "execution_count": 7,
   "id": "shared-virgin",
   "metadata": {},
   "outputs": [
    {
     "name": "stdout",
     "output_type": "stream",
     "text": [
      "<class 'pandas.core.frame.DataFrame'>\n",
      "RangeIndex: 205386 entries, 0 to 205385\n",
      "Data columns (total 17 columns):\n",
      " #   Column               Non-Null Count   Dtype  \n",
      "---  ------               --------------   -----  \n",
      " 0   FL_DATE              205386 non-null  object \n",
      " 1   OP_CARRIER           205386 non-null  object \n",
      " 2   OP_CARRIER_FL_NUM    205386 non-null  int64  \n",
      " 3   ORIGIN               205386 non-null  object \n",
      " 4   DEST                 205386 non-null  object \n",
      " 5   DEP_TIME             205386 non-null  object \n",
      " 6   DEP_DELAY            205386 non-null  int64  \n",
      " 7   CRS_ARR_TIME         205386 non-null  object \n",
      " 8   ARR_TIME             205386 non-null  object \n",
      " 9   ARR_DELAY            205386 non-null  int64  \n",
      " 10  CANCELLED            205386 non-null  float64\n",
      " 11  DIVERTED             205386 non-null  float64\n",
      " 12  CRS_ELAPSED_TIME     205386 non-null  int64  \n",
      " 13  ACTUAL_ELAPSED_TIME  205386 non-null  int64  \n",
      " 14  AIR_TIME             205386 non-null  int64  \n",
      " 15  DISTANCE             205386 non-null  float64\n",
      " 16  CRS_DEP_TIME         205386 non-null  object \n",
      "dtypes: float64(3), int64(6), object(8)\n",
      "memory usage: 26.6+ MB\n"
     ]
    }
   ],
   "source": [
    "df.info()"
   ]
  },
  {
   "cell_type": "markdown",
   "id": "secret-positive",
   "metadata": {},
   "source": [
    "<h3>Split Timestamp</h3>"
   ]
  },
  {
   "cell_type": "code",
   "execution_count": 8,
   "id": "formal-sheriff",
   "metadata": {},
   "outputs": [],
   "source": [
    "df[[\"year\", \"month\", \"day\"]] = df[\"FL_DATE\"].str.split(\"-\", expand = True)\n",
    "df[[\"HOUR\", \"MIN\", \"SEC\"]] = df[\"CRS_DEP_TIME\"].str.split(\":\", expand = True)"
   ]
  },
  {
   "cell_type": "code",
   "execution_count": 9,
   "id": "stock-commissioner",
   "metadata": {},
   "outputs": [
    {
     "data": {
      "text/html": [
       "<div>\n",
       "<style scoped>\n",
       "    .dataframe tbody tr th:only-of-type {\n",
       "        vertical-align: middle;\n",
       "    }\n",
       "\n",
       "    .dataframe tbody tr th {\n",
       "        vertical-align: top;\n",
       "    }\n",
       "\n",
       "    .dataframe thead th {\n",
       "        text-align: right;\n",
       "    }\n",
       "</style>\n",
       "<table border=\"1\" class=\"dataframe\">\n",
       "  <thead>\n",
       "    <tr style=\"text-align: right;\">\n",
       "      <th></th>\n",
       "      <th>FL_DATE</th>\n",
       "      <th>OP_CARRIER</th>\n",
       "      <th>OP_CARRIER_FL_NUM</th>\n",
       "      <th>ORIGIN</th>\n",
       "      <th>DEST</th>\n",
       "      <th>DEP_TIME</th>\n",
       "      <th>DEP_DELAY</th>\n",
       "      <th>CRS_ARR_TIME</th>\n",
       "      <th>ARR_TIME</th>\n",
       "      <th>ARR_DELAY</th>\n",
       "      <th>...</th>\n",
       "      <th>ACTUAL_ELAPSED_TIME</th>\n",
       "      <th>AIR_TIME</th>\n",
       "      <th>DISTANCE</th>\n",
       "      <th>CRS_DEP_TIME</th>\n",
       "      <th>year</th>\n",
       "      <th>month</th>\n",
       "      <th>day</th>\n",
       "      <th>HOUR</th>\n",
       "      <th>MIN</th>\n",
       "      <th>SEC</th>\n",
       "    </tr>\n",
       "  </thead>\n",
       "  <tbody>\n",
       "    <tr>\n",
       "      <th>0</th>\n",
       "      <td>2012-11-11</td>\n",
       "      <td>WN</td>\n",
       "      <td>2416</td>\n",
       "      <td>ATL</td>\n",
       "      <td>AUS</td>\n",
       "      <td>08:53:00</td>\n",
       "      <td>-2</td>\n",
       "      <td>10:45:00</td>\n",
       "      <td>10:23:00</td>\n",
       "      <td>-22</td>\n",
       "      <td>...</td>\n",
       "      <td>150</td>\n",
       "      <td>135</td>\n",
       "      <td>813.0</td>\n",
       "      <td>08:55:00</td>\n",
       "      <td>2012</td>\n",
       "      <td>11</td>\n",
       "      <td>11</td>\n",
       "      <td>08</td>\n",
       "      <td>55</td>\n",
       "      <td>00</td>\n",
       "    </tr>\n",
       "    <tr>\n",
       "      <th>1</th>\n",
       "      <td>2012-11-11</td>\n",
       "      <td>WN</td>\n",
       "      <td>2451</td>\n",
       "      <td>ATL</td>\n",
       "      <td>AUS</td>\n",
       "      <td>16:22:00</td>\n",
       "      <td>7</td>\n",
       "      <td>17:55:00</td>\n",
       "      <td>17:55:00</td>\n",
       "      <td>0</td>\n",
       "      <td>...</td>\n",
       "      <td>153</td>\n",
       "      <td>132</td>\n",
       "      <td>813.0</td>\n",
       "      <td>16:15:00</td>\n",
       "      <td>2012</td>\n",
       "      <td>11</td>\n",
       "      <td>11</td>\n",
       "      <td>16</td>\n",
       "      <td>15</td>\n",
       "      <td>00</td>\n",
       "    </tr>\n",
       "    <tr>\n",
       "      <th>2</th>\n",
       "      <td>2012-11-11</td>\n",
       "      <td>WN</td>\n",
       "      <td>257</td>\n",
       "      <td>ATL</td>\n",
       "      <td>BWI</td>\n",
       "      <td>20:49:00</td>\n",
       "      <td>19</td>\n",
       "      <td>22:25:00</td>\n",
       "      <td>22:44:00</td>\n",
       "      <td>19</td>\n",
       "      <td>...</td>\n",
       "      <td>115</td>\n",
       "      <td>87</td>\n",
       "      <td>577.0</td>\n",
       "      <td>20:30:00</td>\n",
       "      <td>2012</td>\n",
       "      <td>11</td>\n",
       "      <td>11</td>\n",
       "      <td>20</td>\n",
       "      <td>30</td>\n",
       "      <td>00</td>\n",
       "    </tr>\n",
       "    <tr>\n",
       "      <th>3</th>\n",
       "      <td>2012-11-11</td>\n",
       "      <td>WN</td>\n",
       "      <td>2550</td>\n",
       "      <td>ATL</td>\n",
       "      <td>BWI</td>\n",
       "      <td>08:05:00</td>\n",
       "      <td>-5</td>\n",
       "      <td>09:55:00</td>\n",
       "      <td>09:48:00</td>\n",
       "      <td>-7</td>\n",
       "      <td>...</td>\n",
       "      <td>103</td>\n",
       "      <td>88</td>\n",
       "      <td>577.0</td>\n",
       "      <td>08:10:00</td>\n",
       "      <td>2012</td>\n",
       "      <td>11</td>\n",
       "      <td>11</td>\n",
       "      <td>08</td>\n",
       "      <td>10</td>\n",
       "      <td>00</td>\n",
       "    </tr>\n",
       "    <tr>\n",
       "      <th>4</th>\n",
       "      <td>2012-11-11</td>\n",
       "      <td>WN</td>\n",
       "      <td>3331</td>\n",
       "      <td>ATL</td>\n",
       "      <td>BWI</td>\n",
       "      <td>18:25:00</td>\n",
       "      <td>5</td>\n",
       "      <td>20:10:00</td>\n",
       "      <td>20:28:00</td>\n",
       "      <td>18</td>\n",
       "      <td>...</td>\n",
       "      <td>123</td>\n",
       "      <td>93</td>\n",
       "      <td>577.0</td>\n",
       "      <td>18:20:00</td>\n",
       "      <td>2012</td>\n",
       "      <td>11</td>\n",
       "      <td>11</td>\n",
       "      <td>18</td>\n",
       "      <td>20</td>\n",
       "      <td>00</td>\n",
       "    </tr>\n",
       "  </tbody>\n",
       "</table>\n",
       "<p>5 rows × 23 columns</p>\n",
       "</div>"
      ],
      "text/plain": [
       "      FL_DATE OP_CARRIER  OP_CARRIER_FL_NUM ORIGIN DEST  DEP_TIME  DEP_DELAY  \\\n",
       "0  2012-11-11         WN               2416    ATL  AUS  08:53:00         -2   \n",
       "1  2012-11-11         WN               2451    ATL  AUS  16:22:00          7   \n",
       "2  2012-11-11         WN                257    ATL  BWI  20:49:00         19   \n",
       "3  2012-11-11         WN               2550    ATL  BWI  08:05:00         -5   \n",
       "4  2012-11-11         WN               3331    ATL  BWI  18:25:00          5   \n",
       "\n",
       "  CRS_ARR_TIME  ARR_TIME  ARR_DELAY  ...  ACTUAL_ELAPSED_TIME  AIR_TIME  \\\n",
       "0     10:45:00  10:23:00        -22  ...                  150       135   \n",
       "1     17:55:00  17:55:00          0  ...                  153       132   \n",
       "2     22:25:00  22:44:00         19  ...                  115        87   \n",
       "3     09:55:00  09:48:00         -7  ...                  103        88   \n",
       "4     20:10:00  20:28:00         18  ...                  123        93   \n",
       "\n",
       "   DISTANCE  CRS_DEP_TIME  year  month day HOUR MIN SEC  \n",
       "0     813.0      08:55:00  2012     11  11   08  55  00  \n",
       "1     813.0      16:15:00  2012     11  11   16  15  00  \n",
       "2     577.0      20:30:00  2012     11  11   20  30  00  \n",
       "3     577.0      08:10:00  2012     11  11   08  10  00  \n",
       "4     577.0      18:20:00  2012     11  11   18  20  00  \n",
       "\n",
       "[5 rows x 23 columns]"
      ]
     },
     "execution_count": 9,
     "metadata": {},
     "output_type": "execute_result"
    }
   ],
   "source": [
    "df.head()"
   ]
  },
  {
   "cell_type": "code",
   "execution_count": null,
   "id": "reflected-vaccine",
   "metadata": {},
   "outputs": [],
   "source": []
  },
  {
   "cell_type": "markdown",
   "id": "lesser-proof",
   "metadata": {},
   "source": [
    "<h3>Feature Selection</h3>\n",
    "<p>The values of the features are not available brfore flight departure\n",
    "ARR_TIME\n",
    "</p>"
   ]
  },
  {
   "cell_type": "code",
   "execution_count": 10,
   "id": "correct-voice",
   "metadata": {},
   "outputs": [],
   "source": [
    "df=df.drop('FL_DATE',1)\n",
    "df=df.drop('CRS_DEP_TIME',1)\n",
    "df=df.drop('DEP_TIME',1)"
   ]
  },
  {
   "cell_type": "markdown",
   "id": "confident-monaco",
   "metadata": {},
   "source": [
    "<p>Assigning labels to numerical values</p>"
   ]
  },
  {
   "cell_type": "code",
   "execution_count": 11,
   "id": "flush-botswana",
   "metadata": {},
   "outputs": [],
   "source": [
    "df['DEP_STATUS'] = ['OnTime' if x <15 else 'Delay' for x in df['DEP_DELAY']]"
   ]
  },
  {
   "cell_type": "code",
   "execution_count": 12,
   "id": "associate-scholarship",
   "metadata": {},
   "outputs": [
    {
     "data": {
      "text/plain": [
       "OnTime    153522\n",
       "Delay      51864\n",
       "Name: DEP_STATUS, dtype: int64"
      ]
     },
     "execution_count": 12,
     "metadata": {},
     "output_type": "execute_result"
    }
   ],
   "source": [
    "df['DEP_STATUS'].value_counts()"
   ]
  },
  {
   "cell_type": "code",
   "execution_count": 13,
   "id": "hydraulic-cookie",
   "metadata": {},
   "outputs": [],
   "source": [
    "df=df.drop('CRS_ARR_TIME',1)\n",
    "df=df.drop('ARR_TIME',1)\n",
    "df=df.drop('ARR_DELAY',1)\n",
    "df=df.drop('CANCELLED',1)\n",
    "df=df.drop('DIVERTED',1)\n",
    "df=df.drop('ACTUAL_ELAPSED_TIME',1)\n",
    "df=df.drop('AIR_TIME',1)"
   ]
  },
  {
   "cell_type": "markdown",
   "id": "interim-specific",
   "metadata": {},
   "source": [
    "<p>Model trained for Origin as ALT and OP_CCARRIER as WN</p>"
   ]
  },
  {
   "cell_type": "code",
   "execution_count": 14,
   "id": "heavy-adrian",
   "metadata": {},
   "outputs": [],
   "source": [
    "df=df.drop('ORIGIN',1)\n",
    "df=df.drop('OP_CARRIER',1)"
   ]
  },
  {
   "cell_type": "code",
   "execution_count": 15,
   "id": "jewish-division",
   "metadata": {},
   "outputs": [],
   "source": [
    "df=df.drop('SEC',1)\n"
   ]
  },
  {
   "cell_type": "code",
   "execution_count": 16,
   "id": "marked-reggae",
   "metadata": {},
   "outputs": [
    {
     "data": {
      "text/html": [
       "<div>\n",
       "<style scoped>\n",
       "    .dataframe tbody tr th:only-of-type {\n",
       "        vertical-align: middle;\n",
       "    }\n",
       "\n",
       "    .dataframe tbody tr th {\n",
       "        vertical-align: top;\n",
       "    }\n",
       "\n",
       "    .dataframe thead th {\n",
       "        text-align: right;\n",
       "    }\n",
       "</style>\n",
       "<table border=\"1\" class=\"dataframe\">\n",
       "  <thead>\n",
       "    <tr style=\"text-align: right;\">\n",
       "      <th></th>\n",
       "      <th>OP_CARRIER_FL_NUM</th>\n",
       "      <th>DEST</th>\n",
       "      <th>DEP_DELAY</th>\n",
       "      <th>CRS_ELAPSED_TIME</th>\n",
       "      <th>DISTANCE</th>\n",
       "      <th>year</th>\n",
       "      <th>month</th>\n",
       "      <th>day</th>\n",
       "      <th>HOUR</th>\n",
       "      <th>MIN</th>\n",
       "      <th>DEP_STATUS</th>\n",
       "    </tr>\n",
       "  </thead>\n",
       "  <tbody>\n",
       "    <tr>\n",
       "      <th>0</th>\n",
       "      <td>2416</td>\n",
       "      <td>AUS</td>\n",
       "      <td>-2</td>\n",
       "      <td>170</td>\n",
       "      <td>813.0</td>\n",
       "      <td>2012</td>\n",
       "      <td>11</td>\n",
       "      <td>11</td>\n",
       "      <td>08</td>\n",
       "      <td>55</td>\n",
       "      <td>OnTime</td>\n",
       "    </tr>\n",
       "    <tr>\n",
       "      <th>1</th>\n",
       "      <td>2451</td>\n",
       "      <td>AUS</td>\n",
       "      <td>7</td>\n",
       "      <td>160</td>\n",
       "      <td>813.0</td>\n",
       "      <td>2012</td>\n",
       "      <td>11</td>\n",
       "      <td>11</td>\n",
       "      <td>16</td>\n",
       "      <td>15</td>\n",
       "      <td>OnTime</td>\n",
       "    </tr>\n",
       "    <tr>\n",
       "      <th>2</th>\n",
       "      <td>257</td>\n",
       "      <td>BWI</td>\n",
       "      <td>19</td>\n",
       "      <td>115</td>\n",
       "      <td>577.0</td>\n",
       "      <td>2012</td>\n",
       "      <td>11</td>\n",
       "      <td>11</td>\n",
       "      <td>20</td>\n",
       "      <td>30</td>\n",
       "      <td>Delay</td>\n",
       "    </tr>\n",
       "    <tr>\n",
       "      <th>3</th>\n",
       "      <td>2550</td>\n",
       "      <td>BWI</td>\n",
       "      <td>-5</td>\n",
       "      <td>105</td>\n",
       "      <td>577.0</td>\n",
       "      <td>2012</td>\n",
       "      <td>11</td>\n",
       "      <td>11</td>\n",
       "      <td>08</td>\n",
       "      <td>10</td>\n",
       "      <td>OnTime</td>\n",
       "    </tr>\n",
       "    <tr>\n",
       "      <th>4</th>\n",
       "      <td>3331</td>\n",
       "      <td>BWI</td>\n",
       "      <td>5</td>\n",
       "      <td>110</td>\n",
       "      <td>577.0</td>\n",
       "      <td>2012</td>\n",
       "      <td>11</td>\n",
       "      <td>11</td>\n",
       "      <td>18</td>\n",
       "      <td>20</td>\n",
       "      <td>OnTime</td>\n",
       "    </tr>\n",
       "  </tbody>\n",
       "</table>\n",
       "</div>"
      ],
      "text/plain": [
       "   OP_CARRIER_FL_NUM DEST  DEP_DELAY  CRS_ELAPSED_TIME  DISTANCE  year month  \\\n",
       "0               2416  AUS         -2               170     813.0  2012    11   \n",
       "1               2451  AUS          7               160     813.0  2012    11   \n",
       "2                257  BWI         19               115     577.0  2012    11   \n",
       "3               2550  BWI         -5               105     577.0  2012    11   \n",
       "4               3331  BWI          5               110     577.0  2012    11   \n",
       "\n",
       "  day HOUR MIN DEP_STATUS  \n",
       "0  11   08  55     OnTime  \n",
       "1  11   16  15     OnTime  \n",
       "2  11   20  30      Delay  \n",
       "3  11   08  10     OnTime  \n",
       "4  11   18  20     OnTime  "
      ]
     },
     "execution_count": 16,
     "metadata": {},
     "output_type": "execute_result"
    }
   ],
   "source": [
    "df.head()\n"
   ]
  },
  {
   "cell_type": "markdown",
   "id": "broadband-experience",
   "metadata": {},
   "source": [
    "<p>Dependent and Independent feature assignment</p>"
   ]
  },
  {
   "cell_type": "code",
   "execution_count": 17,
   "id": "entitled-prairie",
   "metadata": {},
   "outputs": [],
   "source": [
    "X=df.drop(\"DEP_DELAY\",1)\n",
    "X=X.drop(\"DEP_STATUS\",1).values\n",
    "y=df.iloc[:,-1].values\n"
   ]
  },
  {
   "cell_type": "markdown",
   "id": "demonstrated-field",
   "metadata": {},
   "source": [
    "<h4>LabelEncoding</h4>"
   ]
  },
  {
   "cell_type": "code",
   "execution_count": 18,
   "id": "commercial-track",
   "metadata": {},
   "outputs": [],
   "source": [
    "from sklearn.preprocessing import LabelEncoder"
   ]
  },
  {
   "cell_type": "code",
   "execution_count": 19,
   "id": "sweet-cattle",
   "metadata": {},
   "outputs": [
    {
     "data": {
      "text/plain": [
       "array([[2303, 'AUS', 170, ..., '11', '08', '55'],\n",
       "       [2337, 'AUS', 160, ..., '11', '16', '15'],\n",
       "       [218, 'BWI', 115, ..., '11', '20', '30'],\n",
       "       ...,\n",
       "       [1541, 'MDW', 115, ..., '09', '11', '00'],\n",
       "       [2234, 'MDW', 120, ..., '09', '15', '35'],\n",
       "       [567, 'PHX', 255, ..., '09', '10', '15']], dtype=object)"
      ]
     },
     "execution_count": 19,
     "metadata": {},
     "output_type": "execute_result"
    }
   ],
   "source": [
    "le=LabelEncoder()\n",
    "X[:,0]=le.fit_transform(X[:,0])\n",
    "X"
   ]
  },
  {
   "cell_type": "code",
   "execution_count": 20,
   "id": "endangered-writing",
   "metadata": {},
   "outputs": [],
   "source": [
    "from sklearn.preprocessing import OneHotEncoder\n",
    "from sklearn.compose import ColumnTransformer"
   ]
  },
  {
   "cell_type": "code",
   "execution_count": 21,
   "id": "adapted-speaking",
   "metadata": {},
   "outputs": [],
   "source": [
    "ct=ColumnTransformer([(\"ohe\",OneHotEncoder(categories='auto'),[1])],remainder=\"passthrough\")\n",
    "X=ct.fit_transform(X)\n"
   ]
  },
  {
   "cell_type": "markdown",
   "id": "early-paris",
   "metadata": {},
   "source": [
    "<h4>Train test split</h4>"
   ]
  },
  {
   "cell_type": "code",
   "execution_count": 22,
   "id": "underlying-bench",
   "metadata": {},
   "outputs": [],
   "source": [
    "from sklearn.model_selection import train_test_split\n",
    "Xtr,Xts,ytr,yts=train_test_split(X,y,test_size=0.2)"
   ]
  },
  {
   "cell_type": "markdown",
   "id": "composite-expert",
   "metadata": {},
   "source": [
    "<h4>Training Model</h4>"
   ]
  },
  {
   "cell_type": "code",
   "execution_count": 23,
   "id": "running-worthy",
   "metadata": {},
   "outputs": [],
   "source": [
    "from sklearn.tree import DecisionTreeClassifier"
   ]
  },
  {
   "cell_type": "code",
   "execution_count": 24,
   "id": "unlike-valve",
   "metadata": {},
   "outputs": [
    {
     "data": {
      "text/plain": [
       "0.7049515555771946"
      ]
     },
     "execution_count": 24,
     "metadata": {},
     "output_type": "execute_result"
    }
   ],
   "source": [
    "dt= DecisionTreeClassifier()\n",
    "dt.fit(Xtr,ytr) \n",
    "dt.score(Xts,yts)"
   ]
  },
  {
   "cell_type": "code",
   "execution_count": 25,
   "id": "combined-cleaner",
   "metadata": {},
   "outputs": [],
   "source": [
    "from sklearn.ensemble import RandomForestClassifier"
   ]
  },
  {
   "cell_type": "code",
   "execution_count": 26,
   "id": "ultimate-perfume",
   "metadata": {},
   "outputs": [
    {
     "data": {
      "text/plain": [
       "0.7277861629095866"
      ]
     },
     "execution_count": 26,
     "metadata": {},
     "output_type": "execute_result"
    }
   ],
   "source": [
    "rf=RandomForestClassifier(n_estimators=7)\n",
    "rf.fit(Xtr,ytr) \n",
    "rf.score(Xts,yts)"
   ]
  },
  {
   "cell_type": "code",
   "execution_count": 27,
   "id": "weekly-marks",
   "metadata": {},
   "outputs": [],
   "source": [
    "ypred=rf.predict(Xts)"
   ]
  },
  {
   "cell_type": "code",
   "execution_count": 28,
   "id": "manual-chemistry",
   "metadata": {},
   "outputs": [
    {
     "data": {
      "text/plain": [
       "array(['OnTime', 'OnTime', 'OnTime', ..., 'OnTime', 'OnTime', 'OnTime'],\n",
       "      dtype=object)"
      ]
     },
     "execution_count": 28,
     "metadata": {},
     "output_type": "execute_result"
    }
   ],
   "source": [
    "yts[40:]"
   ]
  },
  {
   "cell_type": "code",
   "execution_count": 29,
   "id": "suited-prophet",
   "metadata": {},
   "outputs": [
    {
     "data": {
      "text/plain": [
       "array(['OnTime', 'Delay', 'OnTime', ..., 'OnTime', 'OnTime', 'OnTime'],\n",
       "      dtype=object)"
      ]
     },
     "execution_count": 29,
     "metadata": {},
     "output_type": "execute_result"
    }
   ],
   "source": [
    "ypred[40:]"
   ]
  },
  {
   "cell_type": "markdown",
   "id": "departmental-bumper",
   "metadata": {},
   "source": [
    "<h4>Confussion Matrix</h4>"
   ]
  },
  {
   "cell_type": "code",
   "execution_count": 30,
   "id": "extreme-amount",
   "metadata": {},
   "outputs": [],
   "source": [
    "from sklearn.metrics import confusion_matrix,plot_confusion_matrix,accuracy_score,classification_report"
   ]
  },
  {
   "cell_type": "code",
   "execution_count": 31,
   "id": "identical-death",
   "metadata": {},
   "outputs": [
    {
     "data": {
      "image/png": "[encoded data removed]",
      "text/plain": [
       "<Figure size 432x288 with 2 Axes>"
      ]
     },
     "metadata": {
      "needs_background": "light"
     },
     "output_type": "display_data"
    }
   ],
   "source": [
    "plot_confusion_matrix(rf,Xts,yts);"
   ]
  },
  {
   "cell_type": "code",
   "execution_count": 32,
   "id": "naughty-logging",
   "metadata": {},
   "outputs": [
    {
     "data": {
      "text/plain": [
       "0.7277861629095866"
      ]
     },
     "execution_count": 32,
     "metadata": {},
     "output_type": "execute_result"
    }
   ],
   "source": [
    "accuracy_score(yts,ypred)"
   ]
  },
  {
   "cell_type": "code",
   "execution_count": 33,
   "id": "willing-islam",
   "metadata": {},
   "outputs": [
    {
     "name": "stdout",
     "output_type": "stream",
     "text": [
      "              precision    recall  f1-score   support\n",
      "\n",
      "       Delay       0.46      0.37      0.41     10415\n",
      "      OnTime       0.80      0.85      0.82     30663\n",
      "\n",
      "    accuracy                           0.73     41078\n",
      "   macro avg       0.63      0.61      0.62     41078\n",
      "weighted avg       0.71      0.73      0.72     41078\n",
      "\n"
     ]
    }
   ],
   "source": [
    "print(classification_report(yts,ypred))"
   ]
  },
  {
   "cell_type": "code",
   "execution_count": null,
   "id": "median-paste",
   "metadata": {},
   "outputs": [],
   "source": []
  },
  {
   "cell_type": "markdown",
   "id": "careful-worthy",
   "metadata": {},
   "source": [
    "<h2>Round 2</h2>"
   ]
  },
  {
   "cell_type": "code",
   "execution_count": 34,
   "id": "complimentary-bermuda",
   "metadata": {},
   "outputs": [],
   "source": [
    "X2=df.drop([\"DEP_DELAY\",'year','month','day','HOUR','MIN'],1)\n",
    "X2=X2.drop(\"DEP_STATUS\",1).values\n",
    "y2=df.iloc[:,-1].values"
   ]
  },
  {
   "cell_type": "code",
   "execution_count": 35,
   "id": "durable-walter",
   "metadata": {},
   "outputs": [
    {
     "data": {
      "text/plain": [
       "array([[2451, 0, 160, 813.0]], dtype=object)"
      ]
     },
     "execution_count": 35,
     "metadata": {},
     "output_type": "execute_result"
    }
   ],
   "source": [
    "from sklearn.preprocessing import LabelEncoder\n",
    "le2=LabelEncoder()\n",
    "X2[:,1]=le2.fit_transform(X2[:,1])\n",
    "X2[1:2]"
   ]
  },
  {
   "cell_type": "code",
   "execution_count": 36,
   "id": "breeding-integrity",
   "metadata": {},
   "outputs": [],
   "source": [
    "from sklearn.model_selection import train_test_split\n",
    "Xtr2,Xts2,ytr2,yts2=train_test_split(X2,y2,test_size=0.2)"
   ]
  },
  {
   "cell_type": "code",
   "execution_count": 37,
   "id": "boxed-bearing",
   "metadata": {},
   "outputs": [
    {
     "data": {
      "text/plain": [
       "0.7546618627976046"
      ]
     },
     "execution_count": 37,
     "metadata": {},
     "output_type": "execute_result"
    }
   ],
   "source": [
    "from sklearn.tree import DecisionTreeClassifier\n",
    "dt2= DecisionTreeClassifier()\n",
    "dt2.fit(Xtr2,ytr2) \n",
    "dt2.score(Xts2,yts2)"
   ]
  },
  {
   "cell_type": "code",
   "execution_count": 38,
   "id": "frozen-maine",
   "metadata": {},
   "outputs": [
    {
     "data": {
      "text/plain": [
       "0.7593602414917962"
      ]
     },
     "execution_count": 38,
     "metadata": {},
     "output_type": "execute_result"
    }
   ],
   "source": [
    "rf2=RandomForestClassifier()\n",
    "rf2.fit(Xtr2,ytr2) \n",
    "rf2.score(Xts2,yts2)"
   ]
  },
  {
   "cell_type": "code",
   "execution_count": 39,
   "id": "rising-polish",
   "metadata": {},
   "outputs": [
    {
     "data": {
      "text/plain": [
       "array(['OnTime'], dtype=object)"
      ]
     },
     "execution_count": 39,
     "metadata": {},
     "output_type": "execute_result"
    }
   ],
   "source": [
    "rf2.predict([[8554,1,188,1500]])"
   ]
  },
  {
   "cell_type": "code",
   "execution_count": 40,
   "id": "cognitive-light",
   "metadata": {},
   "outputs": [],
   "source": [
    "from sklearn.model_selection import GridSearchCV "
   ]
  },
  {
   "cell_type": "code",
   "execution_count": 41,
   "id": "medieval-biodiversity",
   "metadata": {},
   "outputs": [],
   "source": [
    "grid = dict() \n",
    "grid['n_estimators'] = [3,5,10,50] \n",
    "grid['criterion'] = ['gini', 'entropy'] \n",
    "grid['max_depth'] = [3,5,7,11] "
   ]
  },
  {
   "cell_type": "code",
   "execution_count": 42,
   "id": "standing-premises",
   "metadata": {},
   "outputs": [
    {
     "data": {
      "text/plain": [
       "GridSearchCV(estimator=RandomForestClassifier(),\n",
       "             param_grid={'criterion': ['gini', 'entropy'],\n",
       "                         'max_depth': [3, 5, 7, 11],\n",
       "                         'n_estimators': [3, 5, 10, 50]})"
      ]
     },
     "execution_count": 42,
     "metadata": {},
     "output_type": "execute_result"
    }
   ],
   "source": [
    "tunedClassifier = RandomForestClassifier() \n",
    "rf_tuned = GridSearchCV(tunedClassifier, grid) \n",
    "rf_tuned.fit(Xtr2,ytr2) "
   ]
  },
  {
   "cell_type": "code",
   "execution_count": 43,
   "id": "moral-kelly",
   "metadata": {},
   "outputs": [
    {
     "data": {
      "text/plain": [
       "{'criterion': 'entropy', 'max_depth': 11, 'n_estimators': 5}"
      ]
     },
     "execution_count": 43,
     "metadata": {},
     "output_type": "execute_result"
    }
   ],
   "source": [
    "rf_tuned.best_params_ "
   ]
  },
  {
   "cell_type": "code",
   "execution_count": 44,
   "id": "electoral-malta",
   "metadata": {},
   "outputs": [
    {
     "data": {
      "text/plain": [
       "0.7467987730658747"
      ]
     },
     "execution_count": 44,
     "metadata": {},
     "output_type": "execute_result"
    }
   ],
   "source": [
    "classifier = RandomForestClassifier(n_estimators=11, max_depth=5,criterion='entropy') \n",
    "classifier.fit(Xtr2,ytr2) \n",
    "classifier.score(Xts2,yts2)"
   ]
  },
  {
   "cell_type": "code",
   "execution_count": 45,
   "id": "played-square",
   "metadata": {},
   "outputs": [],
   "source": [
    "from sklearn.model_selection import cross_val_score "
   ]
  },
  {
   "cell_type": "code",
   "execution_count": 46,
   "id": "miniature-google",
   "metadata": {},
   "outputs": [],
   "source": [
    "results = cross_val_score(classifier, Xtr2, ytr2, cv=5)"
   ]
  },
  {
   "cell_type": "code",
   "execution_count": 47,
   "id": "opposed-windows",
   "metadata": {},
   "outputs": [
    {
     "name": "stdout",
     "output_type": "stream",
     "text": [
      "Average Accuracy: 0.75 with +/-: 0.0\n"
     ]
    }
   ],
   "source": [
    "print(f\"Average Accuracy: {round(results.mean(),2)} with +/-: {round(results.std(),2)}\") "
   ]
  },
  {
   "cell_type": "code",
   "execution_count": 48,
   "id": "latter-porcelain",
   "metadata": {},
   "outputs": [],
   "source": [
    "import pickle"
   ]
  },
  {
   "cell_type": "code",
   "execution_count": 49,
   "id": "drawn-address",
   "metadata": {},
   "outputs": [],
   "source": [
    "f=open(\"Airline_delay.h5\",'wb')\n",
    "pickle.dump(classifier,f)\n",
    "f.close()"
   ]
  }
 ],
 "metadata": {
  "kernelspec": {
   "display_name": "Python 3",
   "language": "python",
   "name": "python3"
  },
  "language_info": {
   "codemirror_mode": {
    "name": "ipython",
    "version": 3
   },
   "file_extension": ".py",
   "mimetype": "text/x-python",
   "name": "python",
   "nbconvert_exporter": "python",
   "pygments_lexer": "ipython3",
   "version": "3.6.9"
  }
 },
 "nbformat": 4,
 "nbformat_minor": 5
}
